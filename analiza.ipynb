{
 "cells": [
  {
   "cell_type": "markdown",
   "metadata": {},
   "source": [
    "# Analiza podatkov o 3050 največjih smučiščih na svetu"
   ]
  },
  {
   "cell_type": "markdown",
   "metadata": {},
   "source": [
    "Najprej naložimo ustrezne pakete ter razpredelnico, ki jo bomo uporabili za analizo podatkov."
   ]
  },
  {
   "cell_type": "code",
   "execution_count": 287,
   "metadata": {},
   "outputs": [],
   "source": [
    "# naložimo paket\n",
    "import pandas as pd\n",
    "\n",
    "# naložimo razpredelnico, s katero bomo delali\n",
    "smucisca = pd.read_csv(r'C:\\Users\\Nejc\\AnalizaBesed\\ProjektnaNaloga2024\\smucisca.csv', index_col='položaj')\n",
    "\n",
    "# ker bomo delali z velikimi razpredelnicami, povemo, da naj se vedno izpiše le 20 vrstic\n",
    "pd.options.display.max_rows = 22\n",
    "\n",
    "# Omogoči celotno širino stolpca\n",
    "pd.set_option('display.max_colwidth', None)  \n",
    "\n",
    "%matplotlib inline\n",
    "\n",
    "import matplotlib\n",
    "import numpy as np\n",
    "import matplotlib.pyplot as plt\n",
    "\n",
    "import seaborn as sns\n"
   ]
  },
  {
   "cell_type": "markdown",
   "metadata": {},
   "source": [
    "Spodaj je prikazana razpredelnica, s katero bomo analizirali podatke. Najprej je prikazan položaj smučišča na svetovni lestvici, urejeni po velikosti smučišč. Ta podatek je nastavljen kot indeks. Potem je ime smučišča, celina in država, v kateri se nahaja. Kjer država ni podana, je nastavljena vrednost 'no data'. Sledijo še številski podatki: ocena(od 0 do 5), višinska razlika(izraženo v metrih), podatki o skupni dolžini prog, o dolžini modrih, rdečih in črnih prog posamično(izraženo v kilometrih) in skupno število žičnic. Kjer ni bilo podanega podatka, je nastavljeno na vrednost 'naN'. Pri ruskih smučiščih je ključ 'celina' nastavljena na 'Europe/Asia', saj stran, s katere so ti podatki, ni natančno opredelila, ali se nahaja smučišče na evropskem ali azijskem delu Rusije."
   ]
  },
  {
   "cell_type": "code",
   "execution_count": 288,
   "metadata": {},
   "outputs": [
    {
     "data": {
      "text/html": [
       "<div>\n",
       "<style scoped>\n",
       "    .dataframe tbody tr th:only-of-type {\n",
       "        vertical-align: middle;\n",
       "    }\n",
       "\n",
       "    .dataframe tbody tr th {\n",
       "        vertical-align: top;\n",
       "    }\n",
       "\n",
       "    .dataframe thead th {\n",
       "        text-align: right;\n",
       "    }\n",
       "</style>\n",
       "<table border=\"1\" class=\"dataframe\">\n",
       "  <thead>\n",
       "    <tr style=\"text-align: right;\">\n",
       "      <th></th>\n",
       "      <th>ime</th>\n",
       "      <th>celina</th>\n",
       "      <th>država</th>\n",
       "      <th>ocena</th>\n",
       "      <th>višinska_razlika</th>\n",
       "      <th>proge</th>\n",
       "      <th>modre</th>\n",
       "      <th>rdeče</th>\n",
       "      <th>črne</th>\n",
       "      <th>žičnice</th>\n",
       "    </tr>\n",
       "    <tr>\n",
       "      <th>položaj</th>\n",
       "      <th></th>\n",
       "      <th></th>\n",
       "      <th></th>\n",
       "      <th></th>\n",
       "      <th></th>\n",
       "      <th></th>\n",
       "      <th></th>\n",
       "      <th></th>\n",
       "      <th></th>\n",
       "      <th></th>\n",
       "    </tr>\n",
       "  </thead>\n",
       "  <tbody>\n",
       "    <tr>\n",
       "      <th>1</th>\n",
       "      <td>Les 3 Vallées – Val Thorens/Les Menuires/Méribel/Courchevel</td>\n",
       "      <td>Europe</td>\n",
       "      <td>France</td>\n",
       "      <td>4.6</td>\n",
       "      <td>2130.0</td>\n",
       "      <td>600.0</td>\n",
       "      <td>312.0</td>\n",
       "      <td>216.0</td>\n",
       "      <td>72.0</td>\n",
       "      <td>157.0</td>\n",
       "    </tr>\n",
       "    <tr>\n",
       "      <th>2</th>\n",
       "      <td>Les Portes du Soleil – Morzine/Avoriaz/Les Gets/Châtel/Morgins/Champéry</td>\n",
       "      <td>Europe</td>\n",
       "      <td>Switzerland</td>\n",
       "      <td>4.3</td>\n",
       "      <td>1269.0</td>\n",
       "      <td>580.0</td>\n",
       "      <td>310.0</td>\n",
       "      <td>210.0</td>\n",
       "      <td>60.0</td>\n",
       "      <td>165.0</td>\n",
       "    </tr>\n",
       "    <tr>\n",
       "      <th>3</th>\n",
       "      <td>4 Vallées – Verbier/La Tzoumaz/Nendaz/Veysonnaz/Thyon</td>\n",
       "      <td>Europe</td>\n",
       "      <td>Switzerland</td>\n",
       "      <td>4.3</td>\n",
       "      <td>1980.0</td>\n",
       "      <td>412.0</td>\n",
       "      <td>107.0</td>\n",
       "      <td>202.0</td>\n",
       "      <td>103.0</td>\n",
       "      <td>68.0</td>\n",
       "    </tr>\n",
       "    <tr>\n",
       "      <th>4</th>\n",
       "      <td>Via Lattea – Sestriere/Sauze d’Oulx/San Sicario/Claviere/Montgenèvre</td>\n",
       "      <td>Europe</td>\n",
       "      <td>Italy</td>\n",
       "      <td>4.2</td>\n",
       "      <td>1251.0</td>\n",
       "      <td>400.0</td>\n",
       "      <td>96.0</td>\n",
       "      <td>220.0</td>\n",
       "      <td>84.0</td>\n",
       "      <td>70.0</td>\n",
       "    </tr>\n",
       "    <tr>\n",
       "      <th>5</th>\n",
       "      <td>Zermatt/Breuil-Cervinia/Valtournenche – Matterhorn</td>\n",
       "      <td>Europe</td>\n",
       "      <td>Switzerland</td>\n",
       "      <td>4.5</td>\n",
       "      <td>2337.0</td>\n",
       "      <td>322.0</td>\n",
       "      <td>75.0</td>\n",
       "      <td>220.0</td>\n",
       "      <td>27.0</td>\n",
       "      <td>51.0</td>\n",
       "    </tr>\n",
       "    <tr>\n",
       "      <th>...</th>\n",
       "      <td>...</td>\n",
       "      <td>...</td>\n",
       "      <td>...</td>\n",
       "      <td>...</td>\n",
       "      <td>...</td>\n",
       "      <td>...</td>\n",
       "      <td>...</td>\n",
       "      <td>...</td>\n",
       "      <td>...</td>\n",
       "      <td>...</td>\n",
       "    </tr>\n",
       "    <tr>\n",
       "      <th>3038</th>\n",
       "      <td>Schwengimatt</td>\n",
       "      <td>Europe</td>\n",
       "      <td>Switzerland</td>\n",
       "      <td>2.2</td>\n",
       "      <td>117.0</td>\n",
       "      <td>1.7</td>\n",
       "      <td>1.0</td>\n",
       "      <td>0.5</td>\n",
       "      <td>0.2</td>\n",
       "      <td>NaN</td>\n",
       "    </tr>\n",
       "    <tr>\n",
       "      <th>3038</th>\n",
       "      <td>Siplo</td>\n",
       "      <td>Europe</td>\n",
       "      <td>Norway</td>\n",
       "      <td>2.2</td>\n",
       "      <td>285.0</td>\n",
       "      <td>1.7</td>\n",
       "      <td>0.6</td>\n",
       "      <td>0.4</td>\n",
       "      <td>0.7</td>\n",
       "      <td>2.0</td>\n",
       "    </tr>\n",
       "    <tr>\n",
       "      <th>3038</th>\n",
       "      <td>Prácheň</td>\n",
       "      <td>Europe</td>\n",
       "      <td>Czech Republic</td>\n",
       "      <td>2.2</td>\n",
       "      <td>106.0</td>\n",
       "      <td>1.7</td>\n",
       "      <td>0.7</td>\n",
       "      <td>0.6</td>\n",
       "      <td>0.4</td>\n",
       "      <td>NaN</td>\n",
       "    </tr>\n",
       "    <tr>\n",
       "      <th>3038</th>\n",
       "      <td>Vegglifjell</td>\n",
       "      <td>Europe</td>\n",
       "      <td>Norway</td>\n",
       "      <td>2.2</td>\n",
       "      <td>145.0</td>\n",
       "      <td>1.7</td>\n",
       "      <td>0.9</td>\n",
       "      <td>0.8</td>\n",
       "      <td>0.0</td>\n",
       "      <td>NaN</td>\n",
       "    </tr>\n",
       "    <tr>\n",
       "      <th>3038</th>\n",
       "      <td>Hlubočky</td>\n",
       "      <td>Europe</td>\n",
       "      <td>Czech Republic</td>\n",
       "      <td>2.2</td>\n",
       "      <td>90.0</td>\n",
       "      <td>1.7</td>\n",
       "      <td>0.7</td>\n",
       "      <td>1.0</td>\n",
       "      <td>0.0</td>\n",
       "      <td>3.0</td>\n",
       "    </tr>\n",
       "  </tbody>\n",
       "</table>\n",
       "<p>3050 rows × 10 columns</p>\n",
       "</div>"
      ],
      "text/plain": [
       "                                                                             ime  \\\n",
       "položaj                                                                            \n",
       "1                    Les 3 Vallées – Val Thorens/Les Menuires/Méribel/Courchevel   \n",
       "2        Les Portes du Soleil – Morzine/Avoriaz/Les Gets/Châtel/Morgins/Champéry   \n",
       "3                          4 Vallées – Verbier/La Tzoumaz/Nendaz/Veysonnaz/Thyon   \n",
       "4           Via Lattea – Sestriere/Sauze d’Oulx/San Sicario/Claviere/Montgenèvre   \n",
       "5                             Zermatt/Breuil-Cervinia/Valtournenche – Matterhorn   \n",
       "...                                                                          ...   \n",
       "3038                                                                Schwengimatt   \n",
       "3038                                                                       Siplo   \n",
       "3038                                                                     Prácheň   \n",
       "3038                                                                 Vegglifjell   \n",
       "3038                                                                    Hlubočky   \n",
       "\n",
       "         celina          država  ocena  višinska_razlika  proge  modre  rdeče  \\\n",
       "položaj                                                                         \n",
       "1        Europe          France    4.6            2130.0  600.0  312.0  216.0   \n",
       "2        Europe     Switzerland    4.3            1269.0  580.0  310.0  210.0   \n",
       "3        Europe     Switzerland    4.3            1980.0  412.0  107.0  202.0   \n",
       "4        Europe           Italy    4.2            1251.0  400.0   96.0  220.0   \n",
       "5        Europe     Switzerland    4.5            2337.0  322.0   75.0  220.0   \n",
       "...         ...             ...    ...               ...    ...    ...    ...   \n",
       "3038     Europe     Switzerland    2.2             117.0    1.7    1.0    0.5   \n",
       "3038     Europe          Norway    2.2             285.0    1.7    0.6    0.4   \n",
       "3038     Europe  Czech Republic    2.2             106.0    1.7    0.7    0.6   \n",
       "3038     Europe          Norway    2.2             145.0    1.7    0.9    0.8   \n",
       "3038     Europe  Czech Republic    2.2              90.0    1.7    0.7    1.0   \n",
       "\n",
       "          črne  žičnice  \n",
       "položaj                  \n",
       "1         72.0    157.0  \n",
       "2         60.0    165.0  \n",
       "3        103.0     68.0  \n",
       "4         84.0     70.0  \n",
       "5         27.0     51.0  \n",
       "...        ...      ...  \n",
       "3038       0.2      NaN  \n",
       "3038       0.7      2.0  \n",
       "3038       0.4      NaN  \n",
       "3038       0.0      NaN  \n",
       "3038       0.0      3.0  \n",
       "\n",
       "[3050 rows x 10 columns]"
      ]
     },
     "execution_count": 288,
     "metadata": {},
     "output_type": "execute_result"
    }
   ],
   "source": [
    "smucisca"
   ]
  },
  {
   "cell_type": "markdown",
   "metadata": {},
   "source": [
    "# <h2>1. Posamična analiza</h2>"
   ]
  },
  {
   "cell_type": "markdown",
   "metadata": {},
   "source": [
    "Najprej so analizirana smučišča posamično. Sprva si bomo ogledali nekaj splošnejših podatkov v razpredelnicah in na grafih, kasneje pa bomo še ugotovili, ali so podane hipoteze pravilne ali ne."
   ]
  },
  {
   "cell_type": "markdown",
   "metadata": {},
   "source": [
    "# <h3>1.1 Splošno</h3>"
   ]
  },
  {
   "cell_type": "markdown",
   "metadata": {},
   "source": [
    "Oglejmo si nekaj podatkov največjega smučišča na svetu."
   ]
  },
  {
   "cell_type": "code",
   "execution_count": 289,
   "metadata": {},
   "outputs": [
    {
     "name": "stdout",
     "output_type": "stream",
     "text": [
      "ime                 Les 3 Vallées – Val Thorens/Les Menuires/Méribel/Courchevel\n",
      "celina                                                                   Europe\n",
      "država                                                                   France\n",
      "ocena                                                                       4.6\n",
      "višinska_razlika                                                         2130.0\n",
      "proge                                                                     600.0\n",
      "modre                                                                     312.0\n",
      "rdeče                                                                     216.0\n",
      "črne                                                                       72.0\n",
      "žičnice                                                                   157.0\n",
      "Name: 1, dtype: object\n"
     ]
    }
   ],
   "source": [
    "# najdem smučišče z indeksom 1\n",
    "najvecje_smucisce_na_svetu = smucisca.loc[int('1')]\n",
    "print(najvecje_smucisce_na_svetu)\n"
   ]
  },
  {
   "cell_type": "markdown",
   "metadata": {},
   "source": [
    "Zanima nas smučišče z največjo višinsko razliko. To višinsko razliko bomo zapisali tudi pod podatki smučišča."
   ]
  },
  {
   "cell_type": "code",
   "execution_count": 290,
   "metadata": {},
   "outputs": [
    {
     "name": "stdout",
     "output_type": "stream",
     "text": [
      "ime                 Zermatt/Breuil-Cervinia/Valtournenche – Matterhorn\n",
      "celina                                                          Europe\n",
      "država                                                     Switzerland\n",
      "ocena                                                              4.5\n",
      "višinska_razlika                                                2337.0\n",
      "proge                                                            322.0\n",
      "modre                                                             75.0\n",
      "rdeče                                                            220.0\n",
      "črne                                                              27.0\n",
      "žičnice                                                           51.0\n",
      "Name: 5, dtype: object\n",
      "\n",
      "Največja višinska razlika je 2337.0 metrov.\n"
     ]
    }
   ],
   "source": [
    "# Pridobimo indeks smučišča z največjo višinsko razliko\n",
    "indeks_najvecje_visinske_razlike = smucisca['višinska_razlika'].idxmax()  \n",
    "\n",
    "# Pridobimo vse podatke za to smučišče\n",
    "smucisce_z_najvecjo_visinsko_razliko = smucisca.loc[indeks_najvecje_visinske_razlike]  \n",
    "\n",
    "# Izpišemo vse podatke smučišča\n",
    "print(smucisce_z_najvecjo_visinsko_razliko)\n",
    "print(f'\\nNajvečja višinska razlika je {smucisce_z_najvecjo_visinsko_razliko['višinska_razlika']} metrov.')\n"
   ]
  },
  {
   "cell_type": "markdown",
   "metadata": {},
   "source": [
    "Smiselno bi bilo si ogledati dolžine modrih, rdečih in črnih prog največjih 10 smučišč."
   ]
  },
  {
   "cell_type": "code",
   "execution_count": 291,
   "metadata": {},
   "outputs": [
    {
     "data": {
      "image/png": "[encoded data removed]",
      "text/plain": [
       "<Figure size 800x700 with 1 Axes>"
      ]
     },
     "metadata": {},
     "output_type": "display_data"
    }
   ],
   "source": [
    "# poiščemo največjih 10 smučišč na svetu\n",
    "najvecjih_10_smucisc = smucisca.sort_values(by='proge', ascending=False).head(10)\n",
    "\n",
    "# ustvarimo x-koordinato\n",
    "x = np.arange(len(najvecjih_10_smucisc))\n",
    "\n",
    "# velikost\n",
    "plt.figure(figsize=[8, 7])\n",
    "\n",
    "# narišemo vse tri stolpce za vsako državo\n",
    "plt.bar(x, najvecjih_10_smucisc['modre'], color='#1f77b4', width=0.3, label='Modre proge')\n",
    "plt.bar(x + 0.2, najvecjih_10_smucisc['rdeče'], color='red', width=0.3, label='Rdeče proge')\n",
    "plt.bar(x + 0.4, najvecjih_10_smucisc['črne'], color='black', width=0.3, label='Črne proge')\n",
    "\n",
    "# podam imena osi\n",
    "plt.xlabel('Smučišča', fontsize=10)\n",
    "plt.ylabel('Dolžina prog (km)', fontsize=10)\n",
    "plt.title('Dolžine modrih, rdečih in črnih prog za največjih 10 smučišč', fontsize=12, fontweight='bold', fontstyle='italic')\n",
    "\n",
    "# Oznake na x osi\n",
    "plt.xticks(x + 0.25, najvecjih_10_smucisc['ime'].str.split().str[:4].str.join(' ') + ' ...', rotation=45, ha='right', fontsize=8)\n",
    "\n",
    "# Prikaz legende\n",
    "plt.legend(fontsize=8)\n",
    "\n",
    "# Prikaz diagrama\n",
    "plt.tight_layout()\n",
    "plt.show()\n"
   ]
  },
  {
   "cell_type": "markdown",
   "metadata": {},
   "source": [
    "Opazimo, da se največjih 10 smučišč najbolj razlikuje v dolžini modrih prog ter najmanj v dolžini črnih."
   ]
  },
  {
   "cell_type": "markdown",
   "metadata": {},
   "source": [
    "Sedaj nas zanima smučišče z največjim deležem najtežjih, torej črnih prog. Prikazali bomo s tortnim diagramom."
   ]
  },
  {
   "cell_type": "code",
   "execution_count": 296,
   "metadata": {},
   "outputs": [
    {
     "data": {
      "image/png": "[encoded data removed]",
      "text/plain": [
       "<Figure size 600x600 with 1 Axes>"
      ]
     },
     "metadata": {},
     "output_type": "display_data"
    },
    {
     "name": "stdout",
     "output_type": "stream",
     "text": [
      "Smučišče z največjim deležem črnih prog je Zauberberg Semmering, ki ima 7.1 % črnih prog.\n"
     ]
    }
   ],
   "source": [
    "# izračunajmo najprej delež črnih prog za vsako smučišče\n",
    "smucisca_copy = smucisca.copy()\n",
    "smucisca_copy['% črnih prog'] = (smucisca_copy['črne'] / smucisca_copy['proge']) * 100\n",
    "\n",
    "# poiščemo to smučišče\n",
    "najvecji_delez_crnih_prog = smucisca_copy.iloc[smucisca_copy['% črnih prog'].idxmax()]\n",
    "smucisce_z_najvec_crnimi_progami = najvecji_delez_crnih_prog['ime']\n",
    "delez_crnih_procent = najvecji_delez_crnih_prog['% črnih prog']\n",
    "\n",
    "# priprava podatkov\n",
    "labels = ['Črne proge', 'Ostale proge']\n",
    "sizes = [delez_crnih_procent, 100 - delez_crnih_procent]\n",
    "colors = ['#1f1f1f', '#b0b0b0']  \n",
    "\n",
    "# nastavitve grafa\n",
    "plt.figure(figsize=(6, 6))\n",
    "plt.pie(sizes, labels=labels, colors=colors, startangle=90, shadow=True, pctdistance=0.5, wedgeprops={'edgecolor': 'white'})\n",
    "plt.title(f'Največji delež črnih prog: {smucisce_z_najvec_crnimi_progami}', fontsize=12, fontweight='bold', style='italic')\n",
    "plt.show()\n",
    "\n",
    "print(f\"Smučišče z največjim deležem črnih prog je {smucisce_z_najvec_crnimi_progami}, ki ima {delez_crnih_procent:.1f} % črnih prog.\")\n"
   ]
  },
  {
   "cell_type": "markdown",
   "metadata": {},
   "source": [
    "Sedaj bomo to naredili splošneje; za vsako vrsto prog in za vsako smučišče bomo poiskali, kolikšen procent skupne dolžine prog zajemajo ter jih uredili najprej po deležu črnih, nato rdečih in na koncu še modrih. Rezultate bomo prikazali v razpredelnici."
   ]
  },
  {
   "cell_type": "code",
   "execution_count": 301,
   "metadata": {},
   "outputs": [
    {
     "data": {
      "text/html": [
       "<div>\n",
       "<style scoped>\n",
       "    .dataframe tbody tr th:only-of-type {\n",
       "        vertical-align: middle;\n",
       "    }\n",
       "\n",
       "    .dataframe tbody tr th {\n",
       "        vertical-align: top;\n",
       "    }\n",
       "\n",
       "    .dataframe thead th {\n",
       "        text-align: right;\n",
       "    }\n",
       "</style>\n",
       "<table border=\"1\" class=\"dataframe\">\n",
       "  <thead>\n",
       "    <tr style=\"text-align: right;\">\n",
       "      <th></th>\n",
       "      <th>ime</th>\n",
       "      <th>% modre proge</th>\n",
       "      <th>% rdeče proge</th>\n",
       "      <th>% črnih prog</th>\n",
       "    </tr>\n",
       "  </thead>\n",
       "  <tbody>\n",
       "    <tr>\n",
       "      <th>1</th>\n",
       "      <td>Balea Lac</td>\n",
       "      <td>0.0</td>\n",
       "      <td>0.0</td>\n",
       "      <td>100.0</td>\n",
       "    </tr>\n",
       "    <tr>\n",
       "      <th>2</th>\n",
       "      <td>Laber – Oberammergau</td>\n",
       "      <td>0.0</td>\n",
       "      <td>0.0</td>\n",
       "      <td>100.0</td>\n",
       "    </tr>\n",
       "    <tr>\n",
       "      <th>3</th>\n",
       "      <td>Kasprowy Wierch – Zakopane</td>\n",
       "      <td>0.0</td>\n",
       "      <td>0.0</td>\n",
       "      <td>100.0</td>\n",
       "    </tr>\n",
       "    <tr>\n",
       "      <th>4</th>\n",
       "      <td>Wallberg – Rottach-Egern</td>\n",
       "      <td>0.0</td>\n",
       "      <td>0.0</td>\n",
       "      <td>100.0</td>\n",
       "    </tr>\n",
       "    <tr>\n",
       "      <th>5</th>\n",
       "      <td>Crni vrh – Bor</td>\n",
       "      <td>0.0</td>\n",
       "      <td>16.7</td>\n",
       "      <td>83.3</td>\n",
       "    </tr>\n",
       "    <tr>\n",
       "      <th>6</th>\n",
       "      <td>Mt. Bohemia</td>\n",
       "      <td>0.0</td>\n",
       "      <td>23.1</td>\n",
       "      <td>76.9</td>\n",
       "    </tr>\n",
       "    <tr>\n",
       "      <th>7</th>\n",
       "      <td>Alpental</td>\n",
       "      <td>5.2</td>\n",
       "      <td>24.0</td>\n",
       "      <td>70.8</td>\n",
       "    </tr>\n",
       "    <tr>\n",
       "      <th>8</th>\n",
       "      <td>Gulmarg (Kongdoori-Apharwat)</td>\n",
       "      <td>10.0</td>\n",
       "      <td>20.0</td>\n",
       "      <td>70.0</td>\n",
       "    </tr>\n",
       "    <tr>\n",
       "      <th>9</th>\n",
       "      <td>Crabbe Mountain</td>\n",
       "      <td>20.0</td>\n",
       "      <td>10.0</td>\n",
       "      <td>70.0</td>\n",
       "    </tr>\n",
       "    <tr>\n",
       "      <th>10</th>\n",
       "      <td>Jiudingshan Taiziling</td>\n",
       "      <td>30.8</td>\n",
       "      <td>0.0</td>\n",
       "      <td>69.2</td>\n",
       "    </tr>\n",
       "  </tbody>\n",
       "</table>\n",
       "</div>"
      ],
      "text/plain": [
       "                             ime  % modre proge  % rdeče proge  % črnih prog\n",
       "1                      Balea Lac            0.0            0.0         100.0\n",
       "2           Laber – Oberammergau            0.0            0.0         100.0\n",
       "3     Kasprowy Wierch – Zakopane            0.0            0.0         100.0\n",
       "4       Wallberg – Rottach-Egern            0.0            0.0         100.0\n",
       "5                 Crni vrh – Bor            0.0           16.7          83.3\n",
       "6                    Mt. Bohemia            0.0           23.1          76.9\n",
       "7                       Alpental            5.2           24.0          70.8\n",
       "8   Gulmarg (Kongdoori-Apharwat)           10.0           20.0          70.0\n",
       "9                Crabbe Mountain           20.0           10.0          70.0\n",
       "10         Jiudingshan Taiziling           30.8            0.0          69.2"
      ]
     },
     "execution_count": 301,
     "metadata": {},
     "output_type": "execute_result"
    }
   ],
   "source": [
    "# izračunajmo delež modrih in rdečih prog, za črne proge pa že imamo\n",
    "smucisca_copy['% modre proge'] = (smucisca_copy['modre'] / smucisca_copy['proge']) * 100\n",
    "smucisca_copy['% rdeče proge'] = (smucisca_copy['rdeče'] / smucisca_copy['proge']) * 100\n",
    "\n",
    "# za lažjo obdelavo kopiram smucisca in izbrisem vrstice s kakšno vrednostjo naN\n",
    "smucisca_pociscena_naN = smucisca_copy.dropna(subset=['modre', 'rdeče', 'črne', '% črnih prog', '% rdeče proge', '% modre proge'])\n",
    "\n",
    "# urejanje po deležu črnih, rdečih in na koncu modrih\n",
    "urejena_smucisca_brez_naN = smucisca_pociscena_naN.sort_values(by=['% črnih prog', '% rdeče proge', '% modre proge'], ascending=False)\n",
    "\n",
    "# katere stolpce bomo prikazali\n",
    "rezultat1 = urejena_smucisca_brez_naN[['ime', '% modre proge', '% rdeče proge', '% črnih prog']].copy()\n",
    "\n",
    "# zaokrožimo procentne vrednosti na 2 decimalni mesti\n",
    "rezultat1['% modre proge'] = rezultat1['% modre proge'].round(1)\n",
    "rezultat1['% rdeče proge'] = rezultat1['% rdeče proge'].round(1)\n",
    "rezultat1['% črnih prog'] = rezultat1['% črnih prog'].round(1)\n",
    "\n",
    "# indeks\n",
    "rezultat1.index = range(1, len(rezultat1) + 1)\n",
    "\n",
    "rezultat1.head(10)\n"
   ]
  },
  {
   "cell_type": "markdown",
   "metadata": {},
   "source": [
    "# <h3>1.2 Hipoteze in ugotovitve</h3>"
   ]
  },
  {
   "cell_type": "markdown",
   "metadata": {},
   "source": [
    "Hipoteza 1: število žičnic se z večanjem višinske razlike povečuje. Poglejmo si na grafu."
   ]
  },
  {
   "cell_type": "code",
   "execution_count": null,
   "metadata": {},
   "outputs": [],
   "source": []
  },
  {
   "cell_type": "markdown",
   "metadata": {},
   "source": [
    "Hipoteza 2: Proge z oceno, višjo ali enako 4.0, so dolge vsaj 50 kilometrov."
   ]
  },
  {
   "cell_type": "code",
   "execution_count": null,
   "metadata": {},
   "outputs": [],
   "source": []
  },
  {
   "cell_type": "markdown",
   "metadata": {},
   "source": [
    "Hipoteza 3: Ocena smučišč je neodvisna od višinske razlike."
   ]
  },
  {
   "cell_type": "markdown",
   "metadata": {},
   "source": []
  },
  {
   "cell_type": "markdown",
   "metadata": {},
   "source": [
    "# <h3>1.1 Celine</h3>\n"
   ]
  },
  {
   "cell_type": "markdown",
   "metadata": {},
   "source": [
    "Najprej bomo analizirali smučarske centre po celinah."
   ]
  },
  {
   "cell_type": "markdown",
   "metadata": {},
   "source": [
    "Opazimo lahko, da je celina z največ smučišči Evropa. Po številu teh močno izstopa, saj jih ima več kot ostale celine skupno. Celina z najmanj smučišči pa je Afrika. To je pričakovano zaradi nižje razvitosti in visokih temperatur."
   ]
  },
  {
   "cell_type": "markdown",
   "metadata": {},
   "source": [
    "Tu je prikazano nekaj največjih smučišč iz Evrope ter vsa iz Afrike. Opazimo, da so največja smučišča sveta vsa v Evropi ter da so Afriška izredno kratka."
   ]
  },
  {
   "cell_type": "code",
   "execution_count": null,
   "metadata": {},
   "outputs": [],
   "source": [
    "smucisca[smucisca['celina'] == 'Europe/Asia'][['ime', 'proge']].head(60)\n"
   ]
  },
  {
   "cell_type": "code",
   "execution_count": null,
   "metadata": {},
   "outputs": [],
   "source": [
    "smucisca[smucisca['celina'] == 'Africa'][['ime', 'proge']]"
   ]
  },
  {
   "cell_type": "markdown",
   "metadata": {},
   "source": [
    "# <h3>1.2 Države</h3>\n"
   ]
  },
  {
   "cell_type": "markdown",
   "metadata": {},
   "source": [
    "Za začetek tega razdelka si oglejmo države z največ registriranimi smučišči. Prikazano je tudi v obliki stolpičnega diagrama."
   ]
  },
  {
   "cell_type": "code",
   "execution_count": null,
   "metadata": {},
   "outputs": [],
   "source": [
    "# preštejemo smučišča za vsako državo\n",
    "smucisca_po_drzavah = smucisca.groupby('država').size().reset_index(name='število_smučišč')\n",
    "\n",
    "# uredimo po številu smučišč od največ do najmanj\n",
    "smucisca_po_drzavah = smucisca_po_drzavah.sort_values(by='število_smučišč', ascending=False)\n",
    "\n",
    "# nastavimo indeks\n",
    "smucisca_po_drzavah.reset_index(drop=True, inplace=True)\n",
    "smucisca_po_drzavah.index += 1  # Indeks začne od 1\n",
    "\n",
    "# prikažemo prvih 10 držav\n",
    "najvec_smucisc = smucisca_po_drzavah.head(10)\n",
    "najvec_smucisc\n"
   ]
  },
  {
   "cell_type": "code",
   "execution_count": null,
   "metadata": {},
   "outputs": [],
   "source": [
    "# ustvarimo stolpični diagram\n",
    "plt.bar(najvec_smucisc['država'], najvec_smucisc['število_smučišč'], color='turquoise')\n",
    "\n",
    "# dodamo oznake in naslov\n",
    "plt.xlabel('Država')\n",
    "plt.ylabel('Število smučišč')\n",
    "plt.title('Top 10 držav po številu smučišč')\n",
    "\n",
    "# rotiramo oznake na x-osi\n",
    "plt.xticks(rotation=45)\n",
    "plt.figure(figsize=(10, 6))\n",
    "plt.show()"
   ]
  },
  {
   "cell_type": "markdown",
   "metadata": {},
   "source": [
    "Sedaj nas zanimajo države z najdaljšo skupno dolžino smučarskih prog."
   ]
  },
  {
   "cell_type": "code",
   "execution_count": null,
   "metadata": {},
   "outputs": [],
   "source": [
    "# skupna dolžina prog po državah\n",
    "dolzina_prog_po_drzavah = smucisca.groupby('država')['proge'].sum()\n",
    "\n",
    "# uredimo po skupni dolžini prog od največ do najmanj\n",
    "dolzina_prog_po_drzavah = dolzina_prog_po_drzavah.sort_values(ascending=False)\n",
    "\n",
    "# nastavimo indeks, da začne od 1\n",
    "dolzina_prog_po_drzavah = dolzina_prog_po_drzavah.reset_index()\n",
    "dolzina_prog_po_drzavah.index += 1  \n",
    "\n",
    "najdaljse_dolzina = dolzina_prog_po_drzavah.head(10)\n",
    "najdaljse_dolzina\n",
    "\n"
   ]
  },
  {
   "cell_type": "code",
   "execution_count": null,
   "metadata": {},
   "outputs": [],
   "source": [
    "plt.plot(najdaljse_dolzina['država'], najdaljse_dolzina['proge'], marker='o', color='gray')\n",
    "plt.title('Skupna dolžina smučarskih prog po državah')\n",
    "plt.xlabel('Država')\n",
    "plt.ylabel('Skupna dolžina prog (v km)')\n",
    "plt.xticks(rotation=45)\n",
    "plt.show()\n"
   ]
  },
  {
   "cell_type": "markdown",
   "metadata": {},
   "source": [
    "Sedaj, ko imamo top 10 držav po skupni dolžini smučarskih prog, si oglejmo, kolikšen je njihov delež modrih, rdečih in črnih prog posamično."
   ]
  },
  {
   "cell_type": "markdown",
   "metadata": {},
   "source": [
    "Če primerjamo ta dva grafa, opazimo, da imajo ZDA največ smučišč in najdaljšo skupno dolžino prog, Francija pa ima manj zelo dolgih smučišč, saj je po številu smučišč šele na 6. mestu, po dolžini prog pa se nahaja tik za ZDA."
   ]
  },
  {
   "cell_type": "markdown",
   "metadata": {},
   "source": [
    "Naslednji podatek, ki si ga bomo ogledali, je tak, da koristi najizkušenejšim smučarjem. Ogledali si bomo namreč seznam držav z največ najzahtevnejšimi progami, torej črnimi. Hkrati pa bomo še preračunali, kolikšen procent vseh prog zavzemajo najtežje."
   ]
  },
  {
   "cell_type": "code",
   "execution_count": null,
   "metadata": {},
   "outputs": [],
   "source": [
    "\n"
   ]
  },
  {
   "cell_type": "markdown",
   "metadata": {},
   "source": [
    "Za manj izkušene smučarje še sedaj podatke o lažjih, torej modrih in rdečih progah."
   ]
  },
  {
   "cell_type": "code",
   "execution_count": null,
   "metadata": {},
   "outputs": [],
   "source": []
  },
  {
   "cell_type": "markdown",
   "metadata": {},
   "source": []
  },
  {
   "cell_type": "markdown",
   "metadata": {},
   "source": [
    "# <h3>1.3 Slovenska smučišča</h3>\n"
   ]
  },
  {
   "cell_type": "markdown",
   "metadata": {},
   "source": [
    "_V tem razdelku bom natančno obdelal podatke o smučiščih, izključno v Sloveniji. Ker je teh zelo malo, bo analiza kratka._"
   ]
  },
  {
   "cell_type": "markdown",
   "metadata": {},
   "source": [
    "Najprej je prikazana razpredelnica slovenskih smučišč."
   ]
  },
  {
   "cell_type": "code",
   "execution_count": null,
   "metadata": {},
   "outputs": [],
   "source": [
    "slovenska_smucisca = smucisca[smucisca['država']== 'Slovenia']\n",
    "slovenska_smucisca.head(22)"
   ]
  },
  {
   "cell_type": "code",
   "execution_count": null,
   "metadata": {},
   "outputs": [],
   "source": [
    "print(f'V Sloveniji imamo {len(slovenska_smucisca)} registriranih smučišč.')"
   ]
  },
  {
   "cell_type": "markdown",
   "metadata": {},
   "source": [
    "Opazimo, da je največje slovensko smučišče Mariborsko pohorje."
   ]
  },
  {
   "cell_type": "markdown",
   "metadata": {},
   "source": [
    "Oglejmo si razvrstitev slovenskih smučišč po oceni."
   ]
  },
  {
   "cell_type": "code",
   "execution_count": null,
   "metadata": {},
   "outputs": [],
   "source": [
    "najbolje_ocenjeno_slovensko = slovenska_smucisca.sort_values('ocena', ascending=False)\n",
    "najbolje_ocenjeno_slovensko"
   ]
  },
  {
   "cell_type": "markdown",
   "metadata": {},
   "source": [
    "Poglejmo si sedaj, če ima morda dolžina prog kakšno povezavo z oceno smučišča."
   ]
  },
  {
   "cell_type": "code",
   "execution_count": null,
   "metadata": {},
   "outputs": [],
   "source": [
    "# narišimo scatter plot\n",
    "plt.scatter(slovenska_smucisca['proge'], slovenska_smucisca['ocena'])\n",
    "plt.title('Povezava med dolžino prog in oceno smučišča')\n",
    "plt.xlabel('Dolžina prog (km)')\n",
    "plt.ylabel('Ocena smučišča')\n",
    "plt.show()"
   ]
  },
  {
   "cell_type": "markdown",
   "metadata": {},
   "source": [
    "Povezava med tema podatkoma je vsaj delno vidna. Kjer je dolžina prog manjša od 10 kilometrov, so vse ocene smučišč pod 3. Pri večjih smučiščih pa so vidne tudi višje ocene, večinoma nad 3, z izjemo dveh z 2.8."
   ]
  },
  {
   "cell_type": "code",
   "execution_count": null,
   "metadata": {},
   "outputs": [],
   "source": [
    "# Skupini po višinski razliki in izračunaj povprečje števila žičnic\n",
    "povprecje_zičnic = slovenska_smucisca.groupby('višinska_razlika')['žičnice'].mean(numeric_only=True)\n",
    "\n",
    "# Nariši graf\n",
    "povprecje_zičnic.plot(kind='bar')\n",
    "plt.title('Povprečje števila žičnic glede na višinsko razliko')\n",
    "plt.xlabel('Višinska razlika (m)')\n",
    "plt.ylabel('Povprečno število žičnic')\n",
    "plt.show()\n",
    "\n"
   ]
  },
  {
   "cell_type": "markdown",
   "metadata": {},
   "source": [
    "Ta stolpični prikaz daje podatke o spreminjaju števila žičnic glede na višinsko razliko. Kot je pričakovano, je z večjo višinsko razliko tudi več žičnic."
   ]
  },
  {
   "cell_type": "markdown",
   "metadata": {},
   "source": [
    "Hipoteza 1: Slovenska smučišča so slabše ocenjena od smučišč sosednje Avstrije in Italije."
   ]
  },
  {
   "cell_type": "markdown",
   "metadata": {},
   "source": []
  },
  {
   "cell_type": "markdown",
   "metadata": {},
   "source": []
  },
  {
   "cell_type": "markdown",
   "metadata": {},
   "source": [
    "# <h2>3. Grafični prikaz in razni izračuni</h2>"
   ]
  },
  {
   "cell_type": "markdown",
   "metadata": {},
   "source": []
  }
 ],
 "metadata": {
  "kernelspec": {
   "display_name": "Python 3",
   "language": "python",
   "name": "python3"
  },
  "language_info": {
   "codemirror_mode": {
    "name": "ipython",
    "version": 3
   },
   "file_extension": ".py",
   "mimetype": "text/x-python",
   "name": "python",
   "nbconvert_exporter": "python",
   "pygments_lexer": "ipython3",
   "version": "3.12.6"
  }
 },
 "nbformat": 4,
 "nbformat_minor": 2
}
