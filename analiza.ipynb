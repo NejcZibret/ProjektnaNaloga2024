{
 "cells": [
  {
   "cell_type": "markdown",
   "metadata": {},
   "source": [
    "# Analiza podatkov o 3050 največjih smučiščih"
   ]
  },
  {
   "cell_type": "markdown",
   "metadata": {},
   "source": [
    "Najprej naložimo ustrezne pakete ter tabelo, ki jo bom uporabil za analizo podatkov."
   ]
  },
  {
   "cell_type": "code",
   "execution_count": 13,
   "metadata": {},
   "outputs": [],
   "source": [
    "# naložimo paket\n",
    "import pandas as pd\n",
    "\n",
    "# naložimo razpredelnico, s katero bomo delali\n",
    "smucisca = pd.read_csv(r'C:\\Users\\Nejc\\AnalizaBesed\\ProjektnaNaloga2024\\smucisca.csv', index_col='položaj')\n",
    "\n",
    "# ker bomo delali z velikimi razpredelnicami, povemo, da naj se vedno izpiše le 20 vrstic\n",
    "pd.options.display.max_rows = 20\n",
    "\n",
    "%matplotlib inline\n",
    "\n",
    "import matplotlib\n",
    "import numpy as np\n",
    "import matplotlib.pyplot as plt\n"
   ]
  },
  {
   "cell_type": "markdown",
   "metadata": {},
   "source": [
    "Spodaj je prikazana tabela s podatki, ki sem jih zajel v svoji projektni nalogi. Najprej je prikazan položaj smučišča na svetovni lestvici, urejeni po velikosti smučišč. Potem je ime smučišča, celina in država. Sledijo še številski podatki: ocena(od 0 do 5), podatki o skupni dolžini prog ter o dolžini modrih, rdečih in črnih prog posamično(vse v kilometrih)."
   ]
  },
  {
   "cell_type": "code",
   "execution_count": 14,
   "metadata": {},
   "outputs": [
    {
     "data": {
      "text/html": [
       "<div>\n",
       "<style scoped>\n",
       "    .dataframe tbody tr th:only-of-type {\n",
       "        vertical-align: middle;\n",
       "    }\n",
       "\n",
       "    .dataframe tbody tr th {\n",
       "        vertical-align: top;\n",
       "    }\n",
       "\n",
       "    .dataframe thead th {\n",
       "        text-align: right;\n",
       "    }\n",
       "</style>\n",
       "<table border=\"1\" class=\"dataframe\">\n",
       "  <thead>\n",
       "    <tr style=\"text-align: right;\">\n",
       "      <th></th>\n",
       "      <th>ime</th>\n",
       "      <th>celina</th>\n",
       "      <th>država</th>\n",
       "      <th>ocena</th>\n",
       "      <th>proge</th>\n",
       "      <th>modre</th>\n",
       "      <th>rdeče</th>\n",
       "      <th>črne</th>\n",
       "    </tr>\n",
       "    <tr>\n",
       "      <th>položaj</th>\n",
       "      <th></th>\n",
       "      <th></th>\n",
       "      <th></th>\n",
       "      <th></th>\n",
       "      <th></th>\n",
       "      <th></th>\n",
       "      <th></th>\n",
       "      <th></th>\n",
       "    </tr>\n",
       "  </thead>\n",
       "  <tbody>\n",
       "    <tr>\n",
       "      <th>1</th>\n",
       "      <td>Les 3 Vallées – Val Thorens/Les Menuires/Mérib...</td>\n",
       "      <td>Europe</td>\n",
       "      <td>France</td>\n",
       "      <td>4.6</td>\n",
       "      <td>600.0</td>\n",
       "      <td>312.0</td>\n",
       "      <td>216.0</td>\n",
       "      <td>72.0</td>\n",
       "    </tr>\n",
       "    <tr>\n",
       "      <th>2</th>\n",
       "      <td>Les Portes du Soleil – Morzine/Avoriaz/Les Get...</td>\n",
       "      <td>Europe</td>\n",
       "      <td>Switzerland</td>\n",
       "      <td>4.3</td>\n",
       "      <td>580.0</td>\n",
       "      <td>310.0</td>\n",
       "      <td>210.0</td>\n",
       "      <td>60.0</td>\n",
       "    </tr>\n",
       "    <tr>\n",
       "      <th>3</th>\n",
       "      <td>4 Vallées – Verbier/La Tzoumaz/Nendaz/Veysonna...</td>\n",
       "      <td>Europe</td>\n",
       "      <td>Switzerland</td>\n",
       "      <td>4.3</td>\n",
       "      <td>412.0</td>\n",
       "      <td>107.0</td>\n",
       "      <td>202.0</td>\n",
       "      <td>103.0</td>\n",
       "    </tr>\n",
       "    <tr>\n",
       "      <th>4</th>\n",
       "      <td>Via Lattea – Sestriere/Sauze d’Oulx/San Sicari...</td>\n",
       "      <td>Europe</td>\n",
       "      <td>Italy</td>\n",
       "      <td>4.2</td>\n",
       "      <td>400.0</td>\n",
       "      <td>96.0</td>\n",
       "      <td>220.0</td>\n",
       "      <td>84.0</td>\n",
       "    </tr>\n",
       "    <tr>\n",
       "      <th>5</th>\n",
       "      <td>Zermatt/Breuil-Cervinia/Valtournenche – Matter...</td>\n",
       "      <td>Europe</td>\n",
       "      <td>Switzerland</td>\n",
       "      <td>4.5</td>\n",
       "      <td>322.0</td>\n",
       "      <td>75.0</td>\n",
       "      <td>220.0</td>\n",
       "      <td>27.0</td>\n",
       "    </tr>\n",
       "    <tr>\n",
       "      <th>...</th>\n",
       "      <td>...</td>\n",
       "      <td>...</td>\n",
       "      <td>...</td>\n",
       "      <td>...</td>\n",
       "      <td>...</td>\n",
       "      <td>...</td>\n",
       "      <td>...</td>\n",
       "      <td>...</td>\n",
       "    </tr>\n",
       "    <tr>\n",
       "      <th>3038</th>\n",
       "      <td>Schwengimatt</td>\n",
       "      <td>Europe</td>\n",
       "      <td>Switzerland</td>\n",
       "      <td>2.2</td>\n",
       "      <td>1.7</td>\n",
       "      <td>1.0</td>\n",
       "      <td>0.5</td>\n",
       "      <td>0.2</td>\n",
       "    </tr>\n",
       "    <tr>\n",
       "      <th>3038</th>\n",
       "      <td>Siplo</td>\n",
       "      <td>Europe</td>\n",
       "      <td>Norway</td>\n",
       "      <td>2.2</td>\n",
       "      <td>1.7</td>\n",
       "      <td>0.6</td>\n",
       "      <td>0.4</td>\n",
       "      <td>0.7</td>\n",
       "    </tr>\n",
       "    <tr>\n",
       "      <th>3038</th>\n",
       "      <td>Prácheň</td>\n",
       "      <td>Europe</td>\n",
       "      <td>Czech Republic</td>\n",
       "      <td>2.2</td>\n",
       "      <td>1.7</td>\n",
       "      <td>0.7</td>\n",
       "      <td>0.6</td>\n",
       "      <td>0.4</td>\n",
       "    </tr>\n",
       "    <tr>\n",
       "      <th>3038</th>\n",
       "      <td>Vegglifjell</td>\n",
       "      <td>Europe</td>\n",
       "      <td>Norway</td>\n",
       "      <td>2.2</td>\n",
       "      <td>1.7</td>\n",
       "      <td>0.9</td>\n",
       "      <td>0.8</td>\n",
       "      <td>0.0</td>\n",
       "    </tr>\n",
       "    <tr>\n",
       "      <th>3038</th>\n",
       "      <td>Hlubočky</td>\n",
       "      <td>Europe</td>\n",
       "      <td>Czech Republic</td>\n",
       "      <td>2.2</td>\n",
       "      <td>1.7</td>\n",
       "      <td>0.7</td>\n",
       "      <td>1.0</td>\n",
       "      <td>0.0</td>\n",
       "    </tr>\n",
       "  </tbody>\n",
       "</table>\n",
       "<p>3050 rows × 8 columns</p>\n",
       "</div>"
      ],
      "text/plain": [
       "                                                       ime  celina  \\\n",
       "položaj                                                              \n",
       "1        Les 3 Vallées – Val Thorens/Les Menuires/Mérib...  Europe   \n",
       "2        Les Portes du Soleil – Morzine/Avoriaz/Les Get...  Europe   \n",
       "3        4 Vallées – Verbier/La Tzoumaz/Nendaz/Veysonna...  Europe   \n",
       "4        Via Lattea – Sestriere/Sauze d’Oulx/San Sicari...  Europe   \n",
       "5        Zermatt/Breuil-Cervinia/Valtournenche – Matter...  Europe   \n",
       "...                                                    ...     ...   \n",
       "3038                                          Schwengimatt  Europe   \n",
       "3038                                                 Siplo  Europe   \n",
       "3038                                               Prácheň  Europe   \n",
       "3038                                           Vegglifjell  Europe   \n",
       "3038                                              Hlubočky  Europe   \n",
       "\n",
       "                 država  ocena  proge  modre  rdeče   črne  \n",
       "položaj                                                     \n",
       "1                France    4.6  600.0  312.0  216.0   72.0  \n",
       "2           Switzerland    4.3  580.0  310.0  210.0   60.0  \n",
       "3           Switzerland    4.3  412.0  107.0  202.0  103.0  \n",
       "4                 Italy    4.2  400.0   96.0  220.0   84.0  \n",
       "5           Switzerland    4.5  322.0   75.0  220.0   27.0  \n",
       "...                 ...    ...    ...    ...    ...    ...  \n",
       "3038        Switzerland    2.2    1.7    1.0    0.5    0.2  \n",
       "3038             Norway    2.2    1.7    0.6    0.4    0.7  \n",
       "3038     Czech Republic    2.2    1.7    0.7    0.6    0.4  \n",
       "3038             Norway    2.2    1.7    0.9    0.8    0.0  \n",
       "3038     Czech Republic    2.2    1.7    0.7    1.0    0.0  \n",
       "\n",
       "[3050 rows x 8 columns]"
      ]
     },
     "execution_count": 14,
     "metadata": {},
     "output_type": "execute_result"
    }
   ],
   "source": [
    "smucisca"
   ]
  },
  {
   "cell_type": "markdown",
   "metadata": {},
   "source": [
    "# <h2>1. Geografska analiza</h2>"
   ]
  },
  {
   "cell_type": "markdown",
   "metadata": {},
   "source": [
    "Prvi del analize bo temeljil na "
   ]
  },
  {
   "cell_type": "markdown",
   "metadata": {},
   "source": [
    "# <h3>1.1 Kontinenti</h3>\n"
   ]
  },
  {
   "cell_type": "markdown",
   "metadata": {},
   "source": [
    "Najprej bom podatke analiziral glede na kontinent, na katerem se smučišče nahaja."
   ]
  },
  {
   "cell_type": "code",
   "execution_count": 19,
   "metadata": {},
   "outputs": [
    {
     "data": {
      "text/plain": [
       "celina\n",
       "Africa                      5\n",
       "Asia                      485\n",
       "Australia and Oceania      33\n",
       "Europe                   1812\n",
       "North America             607\n",
       "Russia                     79\n",
       "South America              29\n",
       "dtype: int64"
      ]
     },
     "execution_count": 19,
     "metadata": {},
     "output_type": "execute_result"
    }
   ],
   "source": [
    "celine = smucisca.groupby(['celina']).size()\n",
    "celine"
   ]
  },
  {
   "cell_type": "markdown",
   "metadata": {},
   "source": [
    "Opazimo lahko, da je celina z največ smučišči Evropa. Po številu teh močno izstopa, saj jih ima več kot ostale celine skupno. Celina z najmanj smučišči pa je Afrika. To je pričakovano zaradi nižje razvitosti in visokih temperatur."
   ]
  },
  {
   "cell_type": "markdown",
   "metadata": {},
   "source": [
    "Tu je prikazano nekaj največjih smučišč iz Evrope ter vsa iz Afrike. Opazimo, da so smučišča v Afriki izredno kratka."
   ]
  },
  {
   "cell_type": "code",
   "execution_count": 28,
   "metadata": {},
   "outputs": [
    {
     "data": {
      "text/html": [
       "<div>\n",
       "<style scoped>\n",
       "    .dataframe tbody tr th:only-of-type {\n",
       "        vertical-align: middle;\n",
       "    }\n",
       "\n",
       "    .dataframe tbody tr th {\n",
       "        vertical-align: top;\n",
       "    }\n",
       "\n",
       "    .dataframe thead th {\n",
       "        text-align: right;\n",
       "    }\n",
       "</style>\n",
       "<table border=\"1\" class=\"dataframe\">\n",
       "  <thead>\n",
       "    <tr style=\"text-align: right;\">\n",
       "      <th></th>\n",
       "      <th>ime</th>\n",
       "      <th>proge</th>\n",
       "    </tr>\n",
       "    <tr>\n",
       "      <th>položaj</th>\n",
       "      <th></th>\n",
       "      <th></th>\n",
       "    </tr>\n",
       "  </thead>\n",
       "  <tbody>\n",
       "    <tr>\n",
       "      <th>1</th>\n",
       "      <td>Les 3 Vallées – Val Thorens/Les Menuires/Mérib...</td>\n",
       "      <td>600.0</td>\n",
       "    </tr>\n",
       "    <tr>\n",
       "      <th>2</th>\n",
       "      <td>Les Portes du Soleil – Morzine/Avoriaz/Les Get...</td>\n",
       "      <td>580.0</td>\n",
       "    </tr>\n",
       "    <tr>\n",
       "      <th>3</th>\n",
       "      <td>4 Vallées – Verbier/La Tzoumaz/Nendaz/Veysonna...</td>\n",
       "      <td>412.0</td>\n",
       "    </tr>\n",
       "    <tr>\n",
       "      <th>4</th>\n",
       "      <td>Via Lattea – Sestriere/Sauze d’Oulx/San Sicari...</td>\n",
       "      <td>400.0</td>\n",
       "    </tr>\n",
       "    <tr>\n",
       "      <th>5</th>\n",
       "      <td>Zermatt/Breuil-Cervinia/Valtournenche – Matter...</td>\n",
       "      <td>322.0</td>\n",
       "    </tr>\n",
       "    <tr>\n",
       "      <th>6</th>\n",
       "      <td>Les Sybelles – Le Corbier/La Toussuire/Les Bot...</td>\n",
       "      <td>310.0</td>\n",
       "    </tr>\n",
       "    <tr>\n",
       "      <th>7</th>\n",
       "      <td>St. Anton/St. Christoph/Stuben/Lech/Zürs/Warth...</td>\n",
       "      <td>301.6</td>\n",
       "    </tr>\n",
       "    <tr>\n",
       "      <th>8</th>\n",
       "      <td>Tignes/Val d'Isère</td>\n",
       "      <td>300.0</td>\n",
       "    </tr>\n",
       "    <tr>\n",
       "      <th>9</th>\n",
       "      <td>SkiWelt Wilder Kaiser-Brixental</td>\n",
       "      <td>270.0</td>\n",
       "    </tr>\n",
       "    <tr>\n",
       "      <th>9</th>\n",
       "      <td>Saalbach Hinterglemm Leogang Fieberbrunn (Skic...</td>\n",
       "      <td>270.0</td>\n",
       "    </tr>\n",
       "    <tr>\n",
       "      <th>11</th>\n",
       "      <td>Le Grand Massif – Flaine/Les Carroz/Morillon/S...</td>\n",
       "      <td>265.0</td>\n",
       "    </tr>\n",
       "    <tr>\n",
       "      <th>12</th>\n",
       "      <td>Megève/Saint-Gervais</td>\n",
       "      <td>263.0</td>\n",
       "    </tr>\n",
       "    <tr>\n",
       "      <th>13</th>\n",
       "      <td>Serre Chevalier – Briançon/Chantemerle/Villene...</td>\n",
       "      <td>250.0</td>\n",
       "    </tr>\n",
       "    <tr>\n",
       "      <th>13</th>\n",
       "      <td>Alpe d'Huez</td>\n",
       "      <td>250.0</td>\n",
       "    </tr>\n",
       "    <tr>\n",
       "      <th>17</th>\n",
       "      <td>Ischgl/Samnaun – Silvretta Arena</td>\n",
       "      <td>239.0</td>\n",
       "    </tr>\n",
       "    <tr>\n",
       "      <th>20</th>\n",
       "      <td>Arosa Lenzerheide</td>\n",
       "      <td>225.0</td>\n",
       "    </tr>\n",
       "    <tr>\n",
       "      <th>20</th>\n",
       "      <td>La Plagne (Paradiski)</td>\n",
       "      <td>225.0</td>\n",
       "    </tr>\n",
       "    <tr>\n",
       "      <th>22</th>\n",
       "      <td>Grandvalira – Pas de la Casa/Grau Roig/Soldeu/...</td>\n",
       "      <td>215.0</td>\n",
       "    </tr>\n",
       "    <tr>\n",
       "      <th>23</th>\n",
       "      <td>Laax/Flims/Falera</td>\n",
       "      <td>214.0</td>\n",
       "    </tr>\n",
       "    <tr>\n",
       "      <th>24</th>\n",
       "      <td>Les 2 Alpes</td>\n",
       "      <td>200.0</td>\n",
       "    </tr>\n",
       "  </tbody>\n",
       "</table>\n",
       "</div>"
      ],
      "text/plain": [
       "                                                       ime  proge\n",
       "položaj                                                          \n",
       "1        Les 3 Vallées – Val Thorens/Les Menuires/Mérib...  600.0\n",
       "2        Les Portes du Soleil – Morzine/Avoriaz/Les Get...  580.0\n",
       "3        4 Vallées – Verbier/La Tzoumaz/Nendaz/Veysonna...  412.0\n",
       "4        Via Lattea – Sestriere/Sauze d’Oulx/San Sicari...  400.0\n",
       "5        Zermatt/Breuil-Cervinia/Valtournenche – Matter...  322.0\n",
       "6        Les Sybelles – Le Corbier/La Toussuire/Les Bot...  310.0\n",
       "7        St. Anton/St. Christoph/Stuben/Lech/Zürs/Warth...  301.6\n",
       "8                                       Tignes/Val d'Isère  300.0\n",
       "9                          SkiWelt Wilder Kaiser-Brixental  270.0\n",
       "9        Saalbach Hinterglemm Leogang Fieberbrunn (Skic...  270.0\n",
       "11       Le Grand Massif – Flaine/Les Carroz/Morillon/S...  265.0\n",
       "12                                    Megève/Saint-Gervais  263.0\n",
       "13       Serre Chevalier – Briançon/Chantemerle/Villene...  250.0\n",
       "13                                             Alpe d'Huez  250.0\n",
       "17                        Ischgl/Samnaun – Silvretta Arena  239.0\n",
       "20                                       Arosa Lenzerheide  225.0\n",
       "20                                   La Plagne (Paradiski)  225.0\n",
       "22       Grandvalira – Pas de la Casa/Grau Roig/Soldeu/...  215.0\n",
       "23                                       Laax/Flims/Falera  214.0\n",
       "24                                             Les 2 Alpes  200.0"
      ]
     },
     "execution_count": 28,
     "metadata": {},
     "output_type": "execute_result"
    }
   ],
   "source": [
    "smucisca[smucisca['celina'] == 'Europe'][['ime', 'proge']].head(20)\n"
   ]
  },
  {
   "cell_type": "code",
   "execution_count": 30,
   "metadata": {},
   "outputs": [
    {
     "data": {
      "text/html": [
       "<div>\n",
       "<style scoped>\n",
       "    .dataframe tbody tr th:only-of-type {\n",
       "        vertical-align: middle;\n",
       "    }\n",
       "\n",
       "    .dataframe tbody tr th {\n",
       "        vertical-align: top;\n",
       "    }\n",
       "\n",
       "    .dataframe thead th {\n",
       "        text-align: right;\n",
       "    }\n",
       "</style>\n",
       "<table border=\"1\" class=\"dataframe\">\n",
       "  <thead>\n",
       "    <tr style=\"text-align: right;\">\n",
       "      <th></th>\n",
       "      <th>ime</th>\n",
       "      <th>proge</th>\n",
       "    </tr>\n",
       "    <tr>\n",
       "      <th>položaj</th>\n",
       "      <th></th>\n",
       "      <th></th>\n",
       "    </tr>\n",
       "  </thead>\n",
       "  <tbody>\n",
       "    <tr>\n",
       "      <th>1215</th>\n",
       "      <td>Oukaïmeden</td>\n",
       "      <td>10.0</td>\n",
       "    </tr>\n",
       "    <tr>\n",
       "      <th>2687</th>\n",
       "      <td>Tiffindell</td>\n",
       "      <td>2.4</td>\n",
       "    </tr>\n",
       "    <tr>\n",
       "      <th>2799</th>\n",
       "      <td>Polana Sosny – Niedzica</td>\n",
       "      <td>2.0</td>\n",
       "    </tr>\n",
       "    <tr>\n",
       "      <th>2799</th>\n",
       "      <td>Matroosberg</td>\n",
       "      <td>2.0</td>\n",
       "    </tr>\n",
       "    <tr>\n",
       "      <th>2982</th>\n",
       "      <td>Afriski Mountain Resort</td>\n",
       "      <td>1.8</td>\n",
       "    </tr>\n",
       "  </tbody>\n",
       "</table>\n",
       "</div>"
      ],
      "text/plain": [
       "                             ime  proge\n",
       "položaj                                \n",
       "1215                  Oukaïmeden   10.0\n",
       "2687                  Tiffindell    2.4\n",
       "2799     Polana Sosny – Niedzica    2.0\n",
       "2799                 Matroosberg    2.0\n",
       "2982     Afriski Mountain Resort    1.8"
      ]
     },
     "execution_count": 30,
     "metadata": {},
     "output_type": "execute_result"
    }
   ],
   "source": [
    "smucisca[smucisca['celina'] == 'Africa'][['ime', 'proge']]"
   ]
  },
  {
   "cell_type": "code",
   "execution_count": null,
   "metadata": {},
   "outputs": [],
   "source": []
  },
  {
   "cell_type": "markdown",
   "metadata": {},
   "source": [
    "# <h3>1.2 Države</h3>\n"
   ]
  },
  {
   "cell_type": "markdown",
   "metadata": {},
   "source": []
  },
  {
   "cell_type": "markdown",
   "metadata": {},
   "source": [
    "# <h2>2. Analiza glede na oceno </h2>"
   ]
  },
  {
   "cell_type": "markdown",
   "metadata": {},
   "source": []
  },
  {
   "cell_type": "markdown",
   "metadata": {},
   "source": [
    "# <h2>3. Analiza po dolžini prog</h2>"
   ]
  },
  {
   "cell_type": "markdown",
   "metadata": {},
   "source": [
    "Opazimo, da se največje smučišče na svetu nahaja v Franciji. Spodaj so njegovi podatki."
   ]
  },
  {
   "cell_type": "code",
   "execution_count": 38,
   "metadata": {},
   "outputs": [
    {
     "data": {
      "text/plain": [
       "ime       Les 3 Vallées – Val Thorens/Les Menuires/Mérib...\n",
       "celina                                               Europe\n",
       "država                                               France\n",
       "ocena                                                   4.6\n",
       "proge                                                 600.0\n",
       "modre                                                 312.0\n",
       "rdeče                                                 216.0\n",
       "črne                                                   72.0\n",
       "Name: 1, dtype: object"
      ]
     },
     "execution_count": 38,
     "metadata": {},
     "output_type": "execute_result"
    }
   ],
   "source": [
    "smucisca.loc[1]"
   ]
  },
  {
   "cell_type": "markdown",
   "metadata": {},
   "source": []
  }
 ],
 "metadata": {
  "kernelspec": {
   "display_name": "Python 3",
   "language": "python",
   "name": "python3"
  },
  "language_info": {
   "codemirror_mode": {
    "name": "ipython",
    "version": 3
   },
   "file_extension": ".py",
   "mimetype": "text/x-python",
   "name": "python",
   "nbconvert_exporter": "python",
   "pygments_lexer": "ipython3",
   "version": "3.12.6"
  }
 },
 "nbformat": 4,
 "nbformat_minor": 2
}
